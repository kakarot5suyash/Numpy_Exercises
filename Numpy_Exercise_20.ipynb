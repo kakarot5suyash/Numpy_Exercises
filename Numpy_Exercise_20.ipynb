{
  "nbformat": 4,
  "nbformat_minor": 0,
  "metadata": {
    "colab": {
      "provenance": [],
      "authorship_tag": "ABX9TyM7PSeBaqOjkafWiSIgbPpI",
      "include_colab_link": true
    },
    "kernelspec": {
      "name": "python3",
      "display_name": "Python 3"
    },
    "language_info": {
      "name": "python"
    }
  },
  "cells": [
    {
      "cell_type": "markdown",
      "metadata": {
        "id": "view-in-github",
        "colab_type": "text"
      },
      "source": [
        "<a href=\"https://colab.research.google.com/github/kakarot5suyash/Numpy_Exercises/blob/main/Numpy_Exercise_20.ipynb\" target=\"_parent\"><img src=\"https://colab.research.google.com/assets/colab-badge.svg\" alt=\"Open In Colab\"/></a>"
      ]
    },
    {
      "cell_type": "markdown",
      "source": [
        "# Numpy Exercise - 20\n",
        "## Using Numpy create the following two-dimensional array:\n",
        "```\n",
        "[[0 0 0 0 0 0]\n",
        " [0 1 0 0 0 0]\n",
        " [0 0 2 0 0 0]\n",
        " [0 0 0 3 0 0]\n",
        " [0 0 0 0 4 0]\n",
        " [0 0 0 0 0 5]]\n",
        "```\n",
        "\n",
        "## Print result to the console \n",
        "\n"
      ],
      "metadata": {
        "id": "S2HU65-YzSSH"
      }
    },
    {
      "cell_type": "code",
      "source": [
        "import numpy as np"
      ],
      "metadata": {
        "id": "N1sMzpQkznso"
      },
      "execution_count": 1,
      "outputs": []
    },
    {
      "cell_type": "code",
      "source": [
        "print(np.diag(np.arange(6)))"
      ],
      "metadata": {
        "colab": {
          "base_uri": "https://localhost:8080/"
        },
        "id": "9jr4a9RRzqGq",
        "outputId": "9cfbca79-dcdf-4ba4-de22-723ee3e54851"
      },
      "execution_count": 3,
      "outputs": [
        {
          "output_type": "stream",
          "name": "stdout",
          "text": [
            "[[0 0 0 0 0 0]\n",
            " [0 1 0 0 0 0]\n",
            " [0 0 2 0 0 0]\n",
            " [0 0 0 3 0 0]\n",
            " [0 0 0 0 4 0]\n",
            " [0 0 0 0 0 5]]\n"
          ]
        }
      ]
    }
  ]
}