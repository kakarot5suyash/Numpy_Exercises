{
  "nbformat": 4,
  "nbformat_minor": 0,
  "metadata": {
    "colab": {
      "provenance": [],
      "authorship_tag": "ABX9TyPer07uT6dNtwCGwq7Uyr/C",
      "include_colab_link": true
    },
    "kernelspec": {
      "name": "python3",
      "display_name": "Python 3"
    },
    "language_info": {
      "name": "python"
    }
  },
  "cells": [
    {
      "cell_type": "markdown",
      "metadata": {
        "id": "view-in-github",
        "colab_type": "text"
      },
      "source": [
        "<a href=\"https://colab.research.google.com/github/kakarot5suyash/Numpy_Exercises/blob/main/Numpy_Exercise_33.ipynb\" target=\"_parent\"><img src=\"https://colab.research.google.com/assets/colab-badge.svg\" alt=\"Open In Colab\"/></a>"
      ]
    },
    {
      "cell_type": "markdown",
      "source": [
        "# Numpy Exercise - 33\n",
        "## The following array is given:\n",
        "```\n",
        "A = np.array([[4.99, 3.49, 9.99],\n",
        "              [1.99, 9.99, 14.99],\n",
        "              [14.99, 2.39, 7.29]])\n",
        "```\n",
        "## Replace elements greater than 10 with a fixed value = 10.0 and print result to the console.\n",
        "\n"
      ],
      "metadata": {
        "id": "FcsQ_vwl8ME9"
      }
    },
    {
      "cell_type": "markdown",
      "source": [
        "## Expected Result:\n",
        "```\n",
        "[[ 4.99  3.49  9.99]\n",
        " [ 1.99  9.99 10.  ]\n",
        " [10.    2.39  7.29]]\n",
        "```\n",
        "\n"
      ],
      "metadata": {
        "id": "LE57z8OT8Ykn"
      }
    },
    {
      "cell_type": "code",
      "source": [
        "import numpy as np"
      ],
      "metadata": {
        "id": "2x0ZycT78gOZ"
      },
      "execution_count": 1,
      "outputs": []
    },
    {
      "cell_type": "code",
      "source": [
        "A = np.array([[4.99, 3.49, 9.99],[1.99, 9.99, 14.99],[14.99, 2.39, 7.29]])\n",
        "print(np.where(A > 10.0, 10.0, A))"
      ],
      "metadata": {
        "colab": {
          "base_uri": "https://localhost:8080/"
        },
        "id": "2h3XqMNN8iZT",
        "outputId": "9be8e793-e010-472f-9246-c66ce19aaaba"
      },
      "execution_count": 2,
      "outputs": [
        {
          "output_type": "stream",
          "name": "stdout",
          "text": [
            "[[ 4.99  3.49  9.99]\n",
            " [ 1.99  9.99 10.  ]\n",
            " [10.    2.39  7.29]]\n"
          ]
        }
      ]
    }
  ]
}