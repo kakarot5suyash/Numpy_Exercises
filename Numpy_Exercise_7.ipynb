{
  "nbformat": 4,
  "nbformat_minor": 0,
  "metadata": {
    "colab": {
      "provenance": [],
      "authorship_tag": "ABX9TyM9mrgwqsa+Y2GKtbZXPuRb",
      "include_colab_link": true
    },
    "kernelspec": {
      "name": "python3",
      "display_name": "Python 3"
    },
    "language_info": {
      "name": "python"
    }
  },
  "cells": [
    {
      "cell_type": "markdown",
      "metadata": {
        "id": "view-in-github",
        "colab_type": "text"
      },
      "source": [
        "<a href=\"https://colab.research.google.com/github/kakarot5suyash/Numpy_Exercises/blob/main/Numpy_Exercise_7.ipynb\" target=\"_parent\"><img src=\"https://colab.research.google.com/assets/colab-badge.svg\" alt=\"Open In Colab\"/></a>"
      ]
    },
    {
      "cell_type": "markdown",
      "source": [
        "# Numpy Exercise - 7\n",
        "## Check if the following arrays are equal (element-wise):"
      ],
      "metadata": {
        "id": "tJGxag_EQ0kV"
      }
    },
    {
      "cell_type": "markdown",
      "source": [
        "\n",
        "```\n",
        "A = np.array([0.4, 0.5, 0.3])\n",
        "B = np.array([0.3999999999, 0.5000000001, 0.3])\n",
        "```\n",
        "Use the comparison operator == in this exercise and print the result to the console\n",
        "\n",
        "Expected Result\n",
        "\n",
        "\n",
        "```\n",
        "[False False  True]\n",
        "```\n",
        "\n",
        "\n"
      ],
      "metadata": {
        "id": "CueHRyERQ_n4"
      }
    },
    {
      "cell_type": "code",
      "source": [
        "import numpy as np"
      ],
      "metadata": {
        "id": "DcVTphekRZGX"
      },
      "execution_count": 2,
      "outputs": []
    },
    {
      "cell_type": "code",
      "source": [
        "A = np.array([0.4, 0.5, 0.3])\n",
        "B = np.array([0.3999999999, 0.5000000001, 0.3])\n",
        "\n",
        "print(A == B)"
      ],
      "metadata": {
        "id": "gcAHPyAzRdQE",
        "colab": {
          "base_uri": "https://localhost:8080/"
        },
        "outputId": "430f1a9b-1c65-4f11-fc5a-5c04a81eb887"
      },
      "execution_count": 3,
      "outputs": [
        {
          "output_type": "stream",
          "name": "stdout",
          "text": [
            "[False False  True]\n"
          ]
        }
      ]
    }
  ]
}