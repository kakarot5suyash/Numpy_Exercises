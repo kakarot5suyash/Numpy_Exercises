{
  "nbformat": 4,
  "nbformat_minor": 0,
  "metadata": {
    "colab": {
      "provenance": [],
      "authorship_tag": "ABX9TyP0jvq4A6C4XzlD73A8ivAX",
      "include_colab_link": true
    },
    "kernelspec": {
      "name": "python3",
      "display_name": "Python 3"
    },
    "language_info": {
      "name": "python"
    }
  },
  "cells": [
    {
      "cell_type": "markdown",
      "metadata": {
        "id": "view-in-github",
        "colab_type": "text"
      },
      "source": [
        "<a href=\"https://colab.research.google.com/github/kakarot5suyash/Numpy_Exercises/blob/main/Numpy_Exercise_36.ipynb\" target=\"_parent\"><img src=\"https://colab.research.google.com/assets/colab-badge.svg\" alt=\"Open In Colab\"/></a>"
      ]
    },
    {
      "cell_type": "markdown",
      "source": [
        "# Numpy Exercise - 36\n",
        "## The following array is given:\n",
        "```\n",
        "A = np.array([[4.99, 3.49, 9.99],\n",
        "              [1.99, 9.99, 14.99],\n",
        "              [14.99, 2.39, 7.29]])\n",
        "```\n",
        "## Using Numpy create an array of the same shape and data type as the given array and fill it with a constant value = 9.99. Print this array to the console.\n",
        "\n"
      ],
      "metadata": {
        "id": "6iTAS_xdBDzP"
      }
    },
    {
      "cell_type": "markdown",
      "source": [
        "## Expected Result:\n",
        "```\n",
        "[[9.99 9.99 9.99]\n",
        " [9.99 9.99 9.99]\n",
        " [9.99 9.99 9.99]]\n",
        "```\n",
        "\n"
      ],
      "metadata": {
        "id": "oMWsPaLyCAhA"
      }
    },
    {
      "cell_type": "code",
      "source": [
        "import numpy as np"
      ],
      "metadata": {
        "id": "ir3tXNJDCLRV"
      },
      "execution_count": 1,
      "outputs": []
    },
    {
      "cell_type": "code",
      "source": [
        "A = np.array([[4.99, 3.49, 9.99],\n",
        "              [1.99, 9.99, 14.99],\n",
        "              [14.99, 2.39, 7.29]])\n",
        "print(np.full_like(A, 9.99))"
      ],
      "metadata": {
        "colab": {
          "base_uri": "https://localhost:8080/"
        },
        "id": "FkTu-Kt8COI5",
        "outputId": "17e02f5d-0511-411e-d663-e2f45ff9bd1c"
      },
      "execution_count": 2,
      "outputs": [
        {
          "output_type": "stream",
          "name": "stdout",
          "text": [
            "[[9.99 9.99 9.99]\n",
            " [9.99 9.99 9.99]\n",
            " [9.99 9.99 9.99]]\n"
          ]
        }
      ]
    }
  ]
}