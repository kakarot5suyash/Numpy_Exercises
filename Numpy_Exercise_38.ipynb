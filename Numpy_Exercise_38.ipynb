{
  "nbformat": 4,
  "nbformat_minor": 0,
  "metadata": {
    "colab": {
      "provenance": [],
      "authorship_tag": "ABX9TyMMQnnUTUbuZW6ahSyjqYNR",
      "include_colab_link": true
    },
    "kernelspec": {
      "name": "python3",
      "display_name": "Python 3"
    },
    "language_info": {
      "name": "python"
    }
  },
  "cells": [
    {
      "cell_type": "markdown",
      "metadata": {
        "id": "view-in-github",
        "colab_type": "text"
      },
      "source": [
        "<a href=\"https://colab.research.google.com/github/kakarot5suyash/Numpy_Exercises/blob/main/Numpy_Exercise_38.ipynb\" target=\"_parent\"><img src=\"https://colab.research.google.com/assets/colab-badge.svg\" alt=\"Open In Colab\"/></a>"
      ]
    },
    {
      "cell_type": "markdown",
      "source": [
        "# Numpy Exercise - 38\n",
        "## Using Numpy create any 3-dimensional array with shape (2, 3, 4) and assign to variable A.\n",
        "\n",
        "## Expected Result:\n",
        "```\n",
        "[[[4 5 4 2]\n",
        "  [6 3 5 1]\n",
        "  [5 2 1 2]]\n",
        " \n",
        " [[7 2 3 1]\n",
        "  [6 2 0 9]\n",
        "  [0 1 9 1]]]\n",
        "```\n",
        "\n"
      ],
      "metadata": {
        "id": "UuxPW96xFV4z"
      }
    },
    {
      "cell_type": "code",
      "source": [
        "import numpy as np"
      ],
      "metadata": {
        "id": "PNWQ8zBIx-TB"
      },
      "execution_count": 1,
      "outputs": []
    },
    {
      "cell_type": "code",
      "source": [
        "A = np.array([[[4, 5, 4, 2],\n",
        "               [6, 3, 5, 1],\n",
        "               [5, 2, 1, 2]],\n",
        "              \n",
        "              [[7, 2, 3, 1],\n",
        "               [6, 2, 0, 9],\n",
        "               [0, 1, 9, 1]]])\n",
        "print(A)"
      ],
      "metadata": {
        "colab": {
          "base_uri": "https://localhost:8080/"
        },
        "id": "JnzM9QiQyALR",
        "outputId": "203e3d5d-e131-4054-a7ea-ae9cb4f601a5"
      },
      "execution_count": 2,
      "outputs": [
        {
          "output_type": "stream",
          "name": "stdout",
          "text": [
            "[[[4 5 4 2]\n",
            "  [6 3 5 1]\n",
            "  [5 2 1 2]]\n",
            "\n",
            " [[7 2 3 1]\n",
            "  [6 2 0 9]\n",
            "  [0 1 9 1]]]\n"
          ]
        }
      ]
    }
  ]
}