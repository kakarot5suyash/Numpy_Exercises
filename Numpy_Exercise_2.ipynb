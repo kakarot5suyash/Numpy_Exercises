{
  "nbformat": 4,
  "nbformat_minor": 0,
  "metadata": {
    "colab": {
      "provenance": [],
      "authorship_tag": "ABX9TyOTR7/fAlHuIEBzwPxvkywW",
      "include_colab_link": true
    },
    "kernelspec": {
      "name": "python3",
      "display_name": "Python 3"
    },
    "language_info": {
      "name": "python"
    }
  },
  "cells": [
    {
      "cell_type": "markdown",
      "metadata": {
        "id": "view-in-github",
        "colab_type": "text"
      },
      "source": [
        "<a href=\"https://colab.research.google.com/github/kakarot5suyash/Numpy_Exercises/blob/main/Numpy_Exercise_2.ipynb\" target=\"_parent\"><img src=\"https://colab.research.google.com/assets/colab-badge.svg\" alt=\"Open In Colab\"/></a>"
      ]
    },
    {
      "cell_type": "markdown",
      "source": [
        "# Numpy Exercise - 2\n",
        "## Check if all elements from the following arrays return the logical value True along the axis with index 1:"
      ],
      "metadata": {
        "id": "kUrPsyY9IQcw"
      }
    },
    {
      "cell_type": "markdown",
      "source": [
        "A = np.array([[3, 2, 1, 4],\n",
        "              [5, 2, 1, 6]])\n",
        " \n",
        "B = np.array([[3, 2, 1, 4],\n",
        "              [5, 2, 0, 6]])\n",
        " \n",
        "C = np.array([[True, False, False],\n",
        "              [True, True, True]])"
      ],
      "metadata": {
        "id": "RO_LmA5vIQAh"
      }
    },
    {
      "cell_type": "code",
      "source": [
        "import numpy as np"
      ],
      "metadata": {
        "id": "PdAqAhg8IZlW"
      },
      "execution_count": 1,
      "outputs": []
    },
    {
      "cell_type": "code",
      "source": [
        "A = np.array([[3, 2, 1, 4], [5, 2, 1, 6]])\n",
        "B = np.array([[3, 2, 1, 4], [5, 2, 0, 6]])\n",
        "C = np.array([[True, False, False], [True, True, True]])\n",
        "\n",
        "for name, array in zip(list('ABC'), [A, B, C]):\n",
        "  print(f\"{name}: {np.all(array, axis = 1)}\")\n"
      ],
      "metadata": {
        "colab": {
          "base_uri": "https://localhost:8080/"
        },
        "id": "VlBwpIVoIcaw",
        "outputId": "274fadb7-45b2-4b5a-ea5c-79326d2950ab"
      },
      "execution_count": 3,
      "outputs": [
        {
          "output_type": "stream",
          "name": "stdout",
          "text": [
            "A: [ True  True]\n",
            "B: [ True False]\n",
            "C: [False  True]\n"
          ]
        }
      ]
    }
  ]
}