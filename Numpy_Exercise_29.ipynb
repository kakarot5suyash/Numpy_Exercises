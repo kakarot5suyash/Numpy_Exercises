{
  "nbformat": 4,
  "nbformat_minor": 0,
  "metadata": {
    "colab": {
      "provenance": [],
      "authorship_tag": "ABX9TyMreKE6sGPLZaIko4DyP7st",
      "include_colab_link": true
    },
    "kernelspec": {
      "name": "python3",
      "display_name": "Python 3"
    },
    "language_info": {
      "name": "python"
    }
  },
  "cells": [
    {
      "cell_type": "markdown",
      "metadata": {
        "id": "view-in-github",
        "colab_type": "text"
      },
      "source": [
        "<a href=\"https://colab.research.google.com/github/kakarot5suyash/Numpy_Exercises/blob/main/Numpy_Exercise_29.ipynb\" target=\"_parent\"><img src=\"https://colab.research.google.com/assets/colab-badge.svg\" alt=\"Open In Colab\"/></a>"
      ]
    },
    {
      "cell_type": "markdown",
      "source": [
        "# Numpy Exercise - 29\n",
        "## The following array is given:\n",
        "```\n",
        "A = np.array([[5, 1, 2, 1, 2],\n",
        "              [9, 1, 9, 7, 5],\n",
        "              [4, 1, 5, 7, 9]])\n",
        "```\n",
        "## Extract all unique values of this array as a list and print it to the console.\n"
      ],
      "metadata": {
        "id": "_j1-_h2zY4o4"
      }
    },
    {
      "cell_type": "markdown",
      "source": [
        "## Expected Result\n",
        "```\n",
        "[1 2 4 5 7 9]\n",
        "\n",
        "```\n",
        "\n"
      ],
      "metadata": {
        "id": "_YdI263MZIPC"
      }
    },
    {
      "cell_type": "code",
      "source": [
        "import numpy as np"
      ],
      "metadata": {
        "id": "oTM1zRYdZP8x"
      },
      "execution_count": 1,
      "outputs": []
    },
    {
      "cell_type": "code",
      "source": [
        "np.random.seed(10)\n",
        "A = np.random.randint(low=1, high=10, size=(3, 5))\n",
        "print(np.unique(A))"
      ],
      "metadata": {
        "colab": {
          "base_uri": "https://localhost:8080/"
        },
        "id": "tWSiwLpYZRZ6",
        "outputId": "ce2c0be0-00c3-49a6-c093-7ad34f7f2ed5"
      },
      "execution_count": 2,
      "outputs": [
        {
          "output_type": "stream",
          "name": "stdout",
          "text": [
            "[1 2 4 5 7 9]\n"
          ]
        }
      ]
    }
  ]
}