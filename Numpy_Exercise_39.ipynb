{
  "nbformat": 4,
  "nbformat_minor": 0,
  "metadata": {
    "colab": {
      "provenance": [],
      "authorship_tag": "ABX9TyOhO+hgRe636sPDGSjFlfUe",
      "include_colab_link": true
    },
    "kernelspec": {
      "name": "python3",
      "display_name": "Python 3"
    },
    "language_info": {
      "name": "python"
    }
  },
  "cells": [
    {
      "cell_type": "markdown",
      "metadata": {
        "id": "view-in-github",
        "colab_type": "text"
      },
      "source": [
        "<a href=\"https://colab.research.google.com/github/kakarot5suyash/Numpy_Exercises/blob/main/Numpy_Exercise_39.ipynb\" target=\"_parent\"><img src=\"https://colab.research.google.com/assets/colab-badge.svg\" alt=\"Open In Colab\"/></a>"
      ]
    },
    {
      "cell_type": "markdown",
      "source": [
        "# Numpy Exercise - 39\n",
        "## Using Numpy create a two-dimensional array with shape of (200, 300) filled with random values from 0 to 255 (inclusive) with data type np.uint8 and assign to the variable image."
      ],
      "metadata": {
        "id": "CBWC9X-ay8Vv"
      }
    },
    {
      "cell_type": "code",
      "source": [
        "import numpy as np"
      ],
      "metadata": {
        "id": "8QcqLkhEzCh0"
      },
      "execution_count": 1,
      "outputs": []
    },
    {
      "cell_type": "code",
      "source": [
        "image = np.random.randint(low = 0, high = 256, size = (200, 300), dtype = np.uint8)\n",
        "print(image)"
      ],
      "metadata": {
        "colab": {
          "base_uri": "https://localhost:8080/"
        },
        "id": "hpXNBwm-zEvD",
        "outputId": "8de325e3-17a6-446d-e7ab-081b0b90350d"
      },
      "execution_count": 2,
      "outputs": [
        {
          "output_type": "stream",
          "name": "stdout",
          "text": [
            "[[103 178 185 ... 174  77 174]\n",
            " [ 33 141 107 ...  23  85 191]\n",
            " [191  88 130 ...  43   3 166]\n",
            " ...\n",
            " [ 15  57 217 ...  88 230 196]\n",
            " [234 249 166 ...  61  43 242]\n",
            " [158  75 249 ... 155 170 122]]\n"
          ]
        }
      ]
    }
  ]
}