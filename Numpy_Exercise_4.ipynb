{
  "nbformat": 4,
  "nbformat_minor": 0,
  "metadata": {
    "colab": {
      "provenance": [],
      "authorship_tag": "ABX9TyNl1PO9amawi1PeOiHck3HI",
      "include_colab_link": true
    },
    "kernelspec": {
      "name": "python3",
      "display_name": "Python 3"
    },
    "language_info": {
      "name": "python"
    }
  },
  "cells": [
    {
      "cell_type": "markdown",
      "metadata": {
        "id": "view-in-github",
        "colab_type": "text"
      },
      "source": [
        "<a href=\"https://colab.research.google.com/github/kakarot5suyash/Numpy_Exercises/blob/main/Numpy_Exercise_4.ipynb\" target=\"_parent\"><img src=\"https://colab.research.google.com/assets/colab-badge.svg\" alt=\"Open In Colab\"/></a>"
      ]
    },
    {
      "cell_type": "markdown",
      "source": [
        "# Numpy Exercise - 4\n",
        "## Check if any element of the following arrays returns the logical value True along the axis with index 0:"
      ],
      "metadata": {
        "id": "0v_fMulZLbL0"
      }
    },
    {
      "cell_type": "markdown",
      "source": [
        "A = np.array([[0, 0, 0], [0, 0, 0]])\n",
        "\n",
        "B = np.array([[0, 0, 0], [0, 1, 0]])\n",
        "\n",
        "C = np.array([[False, False, False], [True, False, False]])\n",
        "\n",
        "D = np.array([[0.1, 0.0]])"
      ],
      "metadata": {
        "id": "ym7JREfcLgn1"
      }
    },
    {
      "cell_type": "code",
      "source": [
        "import numpy as np"
      ],
      "metadata": {
        "id": "qSp08dMwLqR7"
      },
      "execution_count": 1,
      "outputs": []
    },
    {
      "cell_type": "code",
      "source": [
        "A = np.array([[0, 0, 0], [0, 0, 0]])\n",
        "B = np.array([[0, 0, 0], [0, 1, 0]])\n",
        "C = np.array([[False, False, False], [True, False, False]])\n",
        "D = np.array([[0.1, 0.0]])\n",
        "\n",
        "for name, array in zip(list('ABCD'), [A, B, C, D]):\n",
        "  print(f\"{name}: {np.any(array, axis = 0)}\")"
      ],
      "metadata": {
        "colab": {
          "base_uri": "https://localhost:8080/"
        },
        "id": "oEN_TEb5LscQ",
        "outputId": "8446c907-5639-4630-eb0d-6a1a5d909341"
      },
      "execution_count": 2,
      "outputs": [
        {
          "output_type": "stream",
          "name": "stdout",
          "text": [
            "A: [False False False]\n",
            "B: [False  True False]\n",
            "C: [ True False False]\n",
            "D: [ True False]\n"
          ]
        }
      ]
    }
  ]
}