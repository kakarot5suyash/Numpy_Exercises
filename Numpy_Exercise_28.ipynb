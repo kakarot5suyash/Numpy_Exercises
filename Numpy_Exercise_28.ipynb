{
  "nbformat": 4,
  "nbformat_minor": 0,
  "metadata": {
    "colab": {
      "provenance": [],
      "authorship_tag": "ABX9TyMJ2Daf7m16Z/RA7N+CEK03",
      "include_colab_link": true
    },
    "kernelspec": {
      "name": "python3",
      "display_name": "Python 3"
    },
    "language_info": {
      "name": "python"
    }
  },
  "cells": [
    {
      "cell_type": "markdown",
      "metadata": {
        "id": "view-in-github",
        "colab_type": "text"
      },
      "source": [
        "<a href=\"https://colab.research.google.com/github/kakarot5suyash/Numpy_Exercises/blob/main/Numpy_Exercise_28.ipynb\" target=\"_parent\"><img src=\"https://colab.research.google.com/assets/colab-badge.svg\" alt=\"Open In Colab\"/></a>"
      ]
    },
    {
      "cell_type": "markdown",
      "source": [
        "# Numpy Exercise - 28\n",
        "## Following arrays are given\n",
        "```\n",
        "A = np.arange(8).reshape(-1, 4)\n",
        "B = np.array([[9, 10, 11, 3],\n",
        "              [2, 8, 0, 9]])    \n",
        "```\n",
        "\n",
        "## Extract the same elements (intersection) of the arrays as a list and print result to the console.\n",
        "\n",
        "\n",
        "\n"
      ],
      "metadata": {
        "id": "56AFk3b9K35Z"
      }
    },
    {
      "cell_type": "markdown",
      "source": [
        "## Expected Result:\n",
        "\n",
        "```\n",
        "[0 2 3]\n",
        "```\n",
        "\n"
      ],
      "metadata": {
        "id": "T-Gri5c1Mro9"
      }
    },
    {
      "cell_type": "code",
      "source": [
        "import numpy as np"
      ],
      "metadata": {
        "id": "Xpqz18pDOkMF"
      },
      "execution_count": 1,
      "outputs": []
    },
    {
      "cell_type": "code",
      "source": [
        "A = np.arange(8).reshape(-1, 4)\n",
        "B = np.array([[9, 10, 11, 3],\n",
        "              [2, 8, 0, 9]])    \n",
        "\n",
        "print(np.intersect1d(A, B))"
      ],
      "metadata": {
        "colab": {
          "base_uri": "https://localhost:8080/"
        },
        "id": "cU0csC-BOm_2",
        "outputId": "e43b98bf-194e-4c86-cdcf-1ab5cde8a608"
      },
      "execution_count": 2,
      "outputs": [
        {
          "output_type": "stream",
          "name": "stdout",
          "text": [
            "[0 2 3]\n"
          ]
        }
      ]
    }
  ]
}