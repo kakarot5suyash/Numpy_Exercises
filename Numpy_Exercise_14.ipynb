{
  "nbformat": 4,
  "nbformat_minor": 0,
  "metadata": {
    "colab": {
      "provenance": [],
      "authorship_tag": "ABX9TyNQOHZrtMfLftTtCIqks0qR",
      "include_colab_link": true
    },
    "kernelspec": {
      "name": "python3",
      "display_name": "Python 3"
    },
    "language_info": {
      "name": "python"
    }
  },
  "cells": [
    {
      "cell_type": "markdown",
      "metadata": {
        "id": "view-in-github",
        "colab_type": "text"
      },
      "source": [
        "<a href=\"https://colab.research.google.com/github/kakarot5suyash/Numpy_Exercises/blob/main/Numpy_Exercise_14.ipynb\" target=\"_parent\"><img src=\"https://colab.research.google.com/assets/colab-badge.svg\" alt=\"Open In Colab\"/></a>"
      ]
    },
    {
      "cell_type": "markdown",
      "source": [
        "# Numpy Exercise - 14\n",
        "## Set the random seed to 10. Then using Numpy create a one-dimensional array consisting of 30 pseudo-randomly generated values from the uniform distribution [0,1). Print result to the console "
      ],
      "metadata": {
        "id": "GFq8FsSRcfep"
      }
    },
    {
      "cell_type": "markdown",
      "source": [
        "## Expected Result\n",
        "```\n",
        "[0.77132064 0.02075195 0.63364823 0.74880388 0.49850701 0.22479665\n",
        " 0.19806286 0.76053071 0.16911084 0.08833981 0.68535982 0.95339335\n",
        " 0.00394827 0.51219226 0.81262096 0.61252607 0.72175532 0.29187607\n",
        " 0.91777412 0.71457578 0.54254437 0.14217005 0.37334076 0.67413362\n",
        " 0.44183317 0.43401399 0.61776698 0.51313824 0.65039718 0.60103895]\n",
        "```\n",
        "\n"
      ],
      "metadata": {
        "id": "2HZ8I6kXckS6"
      }
    },
    {
      "cell_type": "code",
      "source": [
        "import numpy as np"
      ],
      "metadata": {
        "id": "aw3-4Pcbcq-j"
      },
      "execution_count": 1,
      "outputs": []
    },
    {
      "cell_type": "code",
      "source": [
        "np.random.seed(10)\n",
        "print(np.random.rand(30))"
      ],
      "metadata": {
        "colab": {
          "base_uri": "https://localhost:8080/"
        },
        "id": "rIS4rqAfctm6",
        "outputId": "08310f33-1cd2-4d52-cc0e-36c2aa78d4e6"
      },
      "execution_count": 5,
      "outputs": [
        {
          "output_type": "stream",
          "name": "stdout",
          "text": [
            "[0.77132064 0.02075195 0.63364823 0.74880388 0.49850701 0.22479665\n",
            " 0.19806286 0.76053071 0.16911084 0.08833981 0.68535982 0.95339335\n",
            " 0.00394827 0.51219226 0.81262096 0.61252607 0.72175532 0.29187607\n",
            " 0.91777412 0.71457578 0.54254437 0.14217005 0.37334076 0.67413362\n",
            " 0.44183317 0.43401399 0.61776698 0.51313824 0.65039718 0.60103895]\n"
          ]
        }
      ]
    }
  ]
}