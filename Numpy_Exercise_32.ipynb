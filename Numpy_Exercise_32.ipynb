{
  "nbformat": 4,
  "nbformat_minor": 0,
  "metadata": {
    "colab": {
      "provenance": [],
      "authorship_tag": "ABX9TyM3al8ejiuXg7YmnLu/JZfY",
      "include_colab_link": true
    },
    "kernelspec": {
      "name": "python3",
      "display_name": "Python 3"
    },
    "language_info": {
      "name": "python"
    }
  },
  "cells": [
    {
      "cell_type": "markdown",
      "metadata": {
        "id": "view-in-github",
        "colab_type": "text"
      },
      "source": [
        "<a href=\"https://colab.research.google.com/github/kakarot5suyash/Numpy_Exercises/blob/main/Numpy_Exercise_32.ipynb\" target=\"_parent\"><img src=\"https://colab.research.google.com/assets/colab-badge.svg\" alt=\"Open In Colab\"/></a>"
      ]
    },
    {
      "cell_type": "markdown",
      "source": [
        "# Numpy Exercise - 32\n",
        "## Extract all elements from the following array with a value greater than 8 and print result to the console.\n",
        "```\n",
        "A = np.array([[4.99, 3.49, 9.99],\n",
        "              [1.99, 9.99, 4.99],\n",
        "              [14.99, 2.39, 7.29]])\n",
        "```\n",
        "\n",
        "\n"
      ],
      "metadata": {
        "id": "WLEmITlQpzw2"
      }
    },
    {
      "cell_type": "markdown",
      "source": [
        "## Expected Result:\n",
        "```\n",
        "[ 9.99  9.99 14.99]\n",
        "```\n",
        "\n"
      ],
      "metadata": {
        "id": "w5nI3g__qa_6"
      }
    },
    {
      "cell_type": "code",
      "source": [
        "import numpy as np"
      ],
      "metadata": {
        "id": "OPmINK3-qjz9"
      },
      "execution_count": 3,
      "outputs": []
    },
    {
      "cell_type": "code",
      "source": [
        "A = np.array([[4.99, 3.49, 9.99],[1.99, 9.99, 4.99],[14.99, 2.39, 7.29]])\n",
        "\n",
        "print(A[A > 8])"
      ],
      "metadata": {
        "colab": {
          "base_uri": "https://localhost:8080/"
        },
        "id": "BQG-vtTcquPD",
        "outputId": "c8165fbd-e748-47a7-dba6-291be8b72c57"
      },
      "execution_count": 4,
      "outputs": [
        {
          "output_type": "stream",
          "name": "stdout",
          "text": [
            "[ 9.99  9.99 14.99]\n"
          ]
        }
      ]
    }
  ]
}