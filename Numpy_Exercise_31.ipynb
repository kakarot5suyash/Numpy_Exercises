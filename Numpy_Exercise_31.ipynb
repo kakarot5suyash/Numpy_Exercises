{
  "nbformat": 4,
  "nbformat_minor": 0,
  "metadata": {
    "colab": {
      "provenance": [],
      "authorship_tag": "ABX9TyPp0rrMfELIrKfvCW8MzHen",
      "include_colab_link": true
    },
    "kernelspec": {
      "name": "python3",
      "display_name": "Python 3"
    },
    "language_info": {
      "name": "python"
    }
  },
  "cells": [
    {
      "cell_type": "markdown",
      "metadata": {
        "id": "view-in-github",
        "colab_type": "text"
      },
      "source": [
        "<a href=\"https://colab.research.google.com/github/kakarot5suyash/Numpy_Exercises/blob/main/Numpy_Exercise_31.ipynb\" target=\"_parent\"><img src=\"https://colab.research.google.com/assets/colab-badge.svg\" alt=\"Open In Colab\"/></a>"
      ]
    },
    {
      "cell_type": "markdown",
      "source": [
        "# Numpy Exercise - 31\n",
        "## The following array is given:\n",
        "```\n",
        "A = np.array([[4.99, 3.49, 9.99],\n",
        "              [1.99, 9.99, 4.99],\n",
        "              [14.99, 2.39, 7.29]])\n",
        "\n",
        "```\n",
        "\n",
        "\n"
      ],
      "metadata": {
        "id": "TxWATQJajawi"
      }
    },
    {
      "cell_type": "markdown",
      "source": [
        "## Sort this array:\n",
        "## by row (ascending)\n",
        "## by column (ascending)\n",
        "## And print result to the console \n",
        "\n",
        "## Expected Result:\n",
        "```\n",
        "[[ 3.49  4.99  9.99]\n",
        " [ 1.99  4.99  9.99]\n",
        " [ 2.39  7.29 14.99]]\n",
        "[[ 1.99  2.39  4.99]\n",
        " [ 4.99  3.49  7.29]\n",
        " [14.99  9.99  9.99]]\n",
        "```\n",
        "\n"
      ],
      "metadata": {
        "id": "X3v7l8I2jm7f"
      }
    },
    {
      "cell_type": "code",
      "source": [
        "import numpy as np"
      ],
      "metadata": {
        "id": "CZeR7ALjj1kU"
      },
      "execution_count": 1,
      "outputs": []
    },
    {
      "cell_type": "code",
      "source": [
        "A = np.array([[4.99, 3.49, 9.99],\n",
        "              [1.99, 9.99, 4.99],\n",
        "              [14.99, 2.39, 7.29]])\n",
        "\n",
        "print(np.sort(A, axis = 1))\n",
        "print(np.sort(A, axis = 0))"
      ],
      "metadata": {
        "colab": {
          "base_uri": "https://localhost:8080/"
        },
        "id": "2kbK0cSqj3GH",
        "outputId": "fa81dc29-9997-4f5e-b9f9-a44f469b0090"
      },
      "execution_count": 3,
      "outputs": [
        {
          "output_type": "stream",
          "name": "stdout",
          "text": [
            "[[ 3.49  4.99  9.99]\n",
            " [ 1.99  4.99  9.99]\n",
            " [ 2.39  7.29 14.99]]\n",
            "[[ 1.99  2.39  4.99]\n",
            " [ 4.99  3.49  7.29]\n",
            " [14.99  9.99  9.99]]\n"
          ]
        }
      ]
    }
  ]
}