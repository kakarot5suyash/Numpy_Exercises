{
  "nbformat": 4,
  "nbformat_minor": 0,
  "metadata": {
    "colab": {
      "provenance": [],
      "authorship_tag": "ABX9TyPjA+fkBDVe+BDc56EluwtA",
      "include_colab_link": true
    },
    "kernelspec": {
      "name": "python3",
      "display_name": "Python 3"
    },
    "language_info": {
      "name": "python"
    }
  },
  "cells": [
    {
      "cell_type": "markdown",
      "metadata": {
        "id": "view-in-github",
        "colab_type": "text"
      },
      "source": [
        "<a href=\"https://colab.research.google.com/github/kakarot5suyash/Numpy_Exercises/blob/main/Numpy_Exercise_13.ipynb\" target=\"_parent\"><img src=\"https://colab.research.google.com/assets/colab-badge.svg\" alt=\"Open In Colab\"/></a>"
      ]
    },
    {
      "cell_type": "markdown",
      "source": [
        "# Numpy Exercise - 13\n",
        "## Using Numpy create a 6x6 two-dimensional array - identity matrix with int data type. Print this array to the console"
      ],
      "metadata": {
        "id": "qY7OVqoPZLH7"
      }
    },
    {
      "cell_type": "markdown",
      "source": [
        "## Expected Result\n",
        "```\n",
        "[[1 0 0 0 0 0]\n",
        " [0 1 0 0 0 0]\n",
        " [0 0 1 0 0 0]\n",
        " [0 0 0 1 0 0]\n",
        " [0 0 0 0 1 0]\n",
        " [0 0 0 0 0 1]]\n",
        "```\n",
        "\n"
      ],
      "metadata": {
        "id": "QOIHckhVZNw-"
      }
    },
    {
      "cell_type": "code",
      "source": [
        "import numpy as np"
      ],
      "metadata": {
        "id": "wJs9s0AnZW6p"
      },
      "execution_count": 1,
      "outputs": []
    },
    {
      "cell_type": "code",
      "source": [
        "print(np.eye(6, dtype=int))"
      ],
      "metadata": {
        "colab": {
          "base_uri": "https://localhost:8080/"
        },
        "id": "klqpNnz8ZYon",
        "outputId": "39ec7ee2-f14e-4a20-e4b0-236da6949327"
      },
      "execution_count": 2,
      "outputs": [
        {
          "output_type": "stream",
          "name": "stdout",
          "text": [
            "[[1 0 0 0 0 0]\n",
            " [0 1 0 0 0 0]\n",
            " [0 0 1 0 0 0]\n",
            " [0 0 0 1 0 0]\n",
            " [0 0 0 0 1 0]\n",
            " [0 0 0 0 0 1]]\n"
          ]
        }
      ]
    }
  ]
}