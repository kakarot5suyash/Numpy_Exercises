{
  "nbformat": 4,
  "nbformat_minor": 0,
  "metadata": {
    "colab": {
      "provenance": [],
      "authorship_tag": "ABX9TyNbo9eG3cYl9qA5Z4/ILzOi",
      "include_colab_link": true
    },
    "kernelspec": {
      "name": "python3",
      "display_name": "Python 3"
    },
    "language_info": {
      "name": "python"
    }
  },
  "cells": [
    {
      "cell_type": "markdown",
      "metadata": {
        "id": "view-in-github",
        "colab_type": "text"
      },
      "source": [
        "<a href=\"https://colab.research.google.com/github/kakarot5suyash/Numpy_Exercises/blob/main/Numpy_Exercise_34.ipynb\" target=\"_parent\"><img src=\"https://colab.research.google.com/assets/colab-badge.svg\" alt=\"Open In Colab\"/></a>"
      ]
    },
    {
      "cell_type": "markdown",
      "source": [
        "# Numpy Exercise - 34\n",
        "## Present the following two-dimensional array as a flattened one-dimensional array and print result to the console.\n",
        "```\n",
        "A = np.array([[4.99, 3.49, 9.99],\n",
        "              [1.99, 9.99, 14.99],\n",
        "              [14.99, 2.39, 7.29]])\n",
        "```\n",
        "\n"
      ],
      "metadata": {
        "id": "NykJQnZl95Qu"
      }
    },
    {
      "cell_type": "markdown",
      "source": [
        "## Expected Result:\n",
        "```\n",
        "[ 4.99  3.49  9.99  1.99  9.99 14.99 14.99  2.39  7.29]\n",
        "\n",
        "```\n",
        "\n"
      ],
      "metadata": {
        "id": "K6-6FllW-Ew7"
      }
    },
    {
      "cell_type": "code",
      "source": [
        "import numpy as np"
      ],
      "metadata": {
        "id": "KoKjO9Y8-qvw"
      },
      "execution_count": 1,
      "outputs": []
    },
    {
      "cell_type": "code",
      "source": [
        "A = np.array([[4.99, 3.49, 9.99],\n",
        "              [1.99, 9.99, 14.99],\n",
        "              [14.99, 2.39, 7.29]])\n",
        "\n",
        "print(A.ravel())"
      ],
      "metadata": {
        "colab": {
          "base_uri": "https://localhost:8080/"
        },
        "id": "lYaQm4lu-slt",
        "outputId": "aba90495-ae7f-47b7-ea98-4494284a5200"
      },
      "execution_count": 2,
      "outputs": [
        {
          "output_type": "stream",
          "name": "stdout",
          "text": [
            "[ 4.99  3.49  9.99  1.99  9.99 14.99 14.99  2.39  7.29]\n"
          ]
        }
      ]
    }
  ]
}