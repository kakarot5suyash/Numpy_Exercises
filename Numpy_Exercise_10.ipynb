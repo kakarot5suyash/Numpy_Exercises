{
  "nbformat": 4,
  "nbformat_minor": 0,
  "metadata": {
    "colab": {
      "provenance": [],
      "authorship_tag": "ABX9TyN5Wmd647ZNHFU6lopFMfRn",
      "include_colab_link": true
    },
    "kernelspec": {
      "name": "python3",
      "display_name": "Python 3"
    },
    "language_info": {
      "name": "python"
    }
  },
  "cells": [
    {
      "cell_type": "markdown",
      "metadata": {
        "id": "view-in-github",
        "colab_type": "text"
      },
      "source": [
        "<a href=\"https://colab.research.google.com/github/kakarot5suyash/Numpy_Exercises/blob/main/Numpy_Exercise_10.ipynb\" target=\"_parent\"><img src=\"https://colab.research.google.com/assets/colab-badge.svg\" alt=\"Open In Colab\"/></a>"
      ]
    },
    {
      "cell_type": "markdown",
      "source": [
        "# Numpy Exercise - 10\n",
        "## Using Numpy, create an array 10x10 filled with number 255 and set the data type to float. Print this array to the console"
      ],
      "metadata": {
        "id": "Zu4JiLieTkk1"
      }
    },
    {
      "cell_type": "markdown",
      "source": [
        "## Expected Result\n",
        "```\n",
        "[[255. 255. 255. 255. 255. 255. 255. 255. 255. 255.]\n",
        " [255. 255. 255. 255. 255. 255. 255. 255. 255. 255.]\n",
        " [255. 255. 255. 255. 255. 255. 255. 255. 255. 255.]\n",
        " [255. 255. 255. 255. 255. 255. 255. 255. 255. 255.]\n",
        " [255. 255. 255. 255. 255. 255. 255. 255. 255. 255.]\n",
        " [255. 255. 255. 255. 255. 255. 255. 255. 255. 255.]\n",
        " [255. 255. 255. 255. 255. 255. 255. 255. 255. 255.]\n",
        " [255. 255. 255. 255. 255. 255. 255. 255. 255. 255.]\n",
        " [255. 255. 255. 255. 255. 255. 255. 255. 255. 255.]\n",
        " [255. 255. 255. 255. 255. 255. 255. 255. 255. 255.]]\n",
        "```\n",
        "\n"
      ],
      "metadata": {
        "id": "eUvEUZYJTxmM"
      }
    },
    {
      "cell_type": "code",
      "source": [
        "import numpy as np"
      ],
      "metadata": {
        "id": "oQ4BMQsjT5Gv"
      },
      "execution_count": 1,
      "outputs": []
    },
    {
      "cell_type": "code",
      "source": [
        "print(np.full((10, 10) , fill_value=255,dtype=float))"
      ],
      "metadata": {
        "colab": {
          "base_uri": "https://localhost:8080/"
        },
        "id": "v3lu8orqT-0W",
        "outputId": "8f402f32-b6ab-4ab7-f2a9-4865054e9202"
      },
      "execution_count": 4,
      "outputs": [
        {
          "output_type": "stream",
          "name": "stdout",
          "text": [
            "[[255. 255. 255. 255. 255. 255. 255. 255. 255. 255.]\n",
            " [255. 255. 255. 255. 255. 255. 255. 255. 255. 255.]\n",
            " [255. 255. 255. 255. 255. 255. 255. 255. 255. 255.]\n",
            " [255. 255. 255. 255. 255. 255. 255. 255. 255. 255.]\n",
            " [255. 255. 255. 255. 255. 255. 255. 255. 255. 255.]\n",
            " [255. 255. 255. 255. 255. 255. 255. 255. 255. 255.]\n",
            " [255. 255. 255. 255. 255. 255. 255. 255. 255. 255.]\n",
            " [255. 255. 255. 255. 255. 255. 255. 255. 255. 255.]\n",
            " [255. 255. 255. 255. 255. 255. 255. 255. 255. 255.]\n",
            " [255. 255. 255. 255. 255. 255. 255. 255. 255. 255.]]\n"
          ]
        }
      ]
    }
  ]
}