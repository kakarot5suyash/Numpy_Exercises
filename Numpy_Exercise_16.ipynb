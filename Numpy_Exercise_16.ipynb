{
  "nbformat": 4,
  "nbformat_minor": 0,
  "metadata": {
    "colab": {
      "provenance": [],
      "authorship_tag": "ABX9TyMC/031bcry+dOfFA2sLSY+",
      "include_colab_link": true
    },
    "kernelspec": {
      "name": "python3",
      "display_name": "Python 3"
    },
    "language_info": {
      "name": "python"
    }
  },
  "cells": [
    {
      "cell_type": "markdown",
      "metadata": {
        "id": "view-in-github",
        "colab_type": "text"
      },
      "source": [
        "<a href=\"https://colab.research.google.com/github/kakarot5suyash/Numpy_Exercises/blob/main/Numpy_Exercise_16.ipynb\" target=\"_parent\"><img src=\"https://colab.research.google.com/assets/colab-badge.svg\" alt=\"Open In Colab\"/></a>"
      ]
    },
    {
      "cell_type": "markdown",
      "source": [
        "# Numpy Exercise - 16\n",
        "## Using Numpy create a two-dimensional array with the shape (10, 4) pseudo-randomly generated values from the normal distribution N(100, 5). Set the random seed to 30. Print result to the console"
      ],
      "metadata": {
        "id": "ArcJOwEDhqEH"
      }
    },
    {
      "cell_type": "markdown",
      "source": [
        "## Expected Result\n",
        "```\n",
        "[[ 97.17349231 103.41650023  97.82942436 101.05220329]\n",
        " [ 99.7748353  100.67930221  96.14063068 103.544381  ]\n",
        " [100.30029631  97.52499594 103.52901961 100.24037271]\n",
        " [ 98.29153712  98.2666258  103.09437633 101.70027274]\n",
        " [ 99.36127721 101.20382627  95.34026547 102.09694365]\n",
        " [ 99.98708001  98.95468525  99.05410904 102.38025432]\n",
        " [ 93.50787269 103.61547679 103.18753701  98.51356237]\n",
        " [102.20256689  96.19764407  97.54000366  97.05813038]\n",
        " [101.81233513  97.66380453  98.45883627  98.09317768]\n",
        " [102.48979932  95.70413391  98.43161651 101.89861815]]\n",
        "```\n",
        "\n"
      ],
      "metadata": {
        "id": "uH6kAtovlvIn"
      }
    },
    {
      "cell_type": "code",
      "source": [
        "import numpy as np"
      ],
      "metadata": {
        "id": "77bTKl0imPro"
      },
      "execution_count": 1,
      "outputs": []
    },
    {
      "cell_type": "code",
      "source": [
        "np.random.seed(30)\n",
        "sigma = np.sqrt(5)\n",
        "mu = 100\n",
        "print(sigma * np.random.randn(10,4) + mu)"
      ],
      "metadata": {
        "colab": {
          "base_uri": "https://localhost:8080/"
        },
        "id": "_Fm2qeoXmRav",
        "outputId": "abca433e-485c-47c7-c8f6-383527f34962"
      },
      "execution_count": 6,
      "outputs": [
        {
          "output_type": "stream",
          "name": "stdout",
          "text": [
            "[[ 97.17349231 103.41650023  97.82942436 101.05220329]\n",
            " [ 99.7748353  100.67930221  96.14063068 103.544381  ]\n",
            " [100.30029631  97.52499594 103.52901961 100.24037271]\n",
            " [ 98.29153712  98.2666258  103.09437633 101.70027274]\n",
            " [ 99.36127721 101.20382627  95.34026547 102.09694365]\n",
            " [ 99.98708001  98.95468525  99.05410904 102.38025432]\n",
            " [ 93.50787269 103.61547679 103.18753701  98.51356237]\n",
            " [102.20256689  96.19764407  97.54000366  97.05813038]\n",
            " [101.81233513  97.66380453  98.45883627  98.09317768]\n",
            " [102.48979932  95.70413391  98.43161651 101.89861815]]\n"
          ]
        }
      ]
    }
  ]
}