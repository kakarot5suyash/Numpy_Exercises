{
  "nbformat": 4,
  "nbformat_minor": 0,
  "metadata": {
    "colab": {
      "provenance": [],
      "authorship_tag": "ABX9TyOXNFzrp3rRUmubsslKXEty",
      "include_colab_link": true
    },
    "kernelspec": {
      "name": "python3",
      "display_name": "Python 3"
    },
    "language_info": {
      "name": "python"
    }
  },
  "cells": [
    {
      "cell_type": "markdown",
      "metadata": {
        "id": "view-in-github",
        "colab_type": "text"
      },
      "source": [
        "<a href=\"https://colab.research.google.com/github/kakarot5suyash/Numpy_Exercises/blob/main/Numpy_Exercise_15.ipynb\" target=\"_parent\"><img src=\"https://colab.research.google.com/assets/colab-badge.svg\" alt=\"Open In Colab\"/></a>"
      ]
    },
    {
      "cell_type": "markdown",
      "source": [
        "# Numpy Exercise - 15\n",
        "## Using Numpy create a two-dimensional array with the shape (10, 4) pseudo-randomly generated values from the standard normal distribution N(0,1). Set the random seed to 20. Print result to the console"
      ],
      "metadata": {
        "id": "Fru6KBRIflGI"
      }
    },
    {
      "cell_type": "markdown",
      "source": [
        "## Expected Result\n",
        "```\n",
        "[[ 0.88389311  0.19586502  0.35753652 -2.34326191]\n",
        " [-1.08483259  0.55969629  0.93946935 -0.97848104]\n",
        " [ 0.50309684  0.40641447  0.32346101 -0.49341088]\n",
        " [-0.79201679 -0.84236793 -1.27950266  0.24571517]\n",
        " [-0.0441948   1.56763255  1.05110868  0.40636843]\n",
        " [-0.1686461  -3.18970279  1.12013226  1.33277821]\n",
        " [-0.24333877 -0.13003071 -0.10901737  1.55618644]\n",
        " [ 0.12877835 -2.06694872 -0.88549315 -1.10457948]\n",
        " [ 0.93286635  2.059838   -0.93493796 -1.61299022]\n",
        " [ 0.52706972 -1.55110074  0.32961334 -1.13652654]]\n",
        "\n",
        "```\n",
        "\n"
      ],
      "metadata": {
        "id": "JjqvyOU3frX0"
      }
    },
    {
      "cell_type": "code",
      "source": [
        "import numpy as np"
      ],
      "metadata": {
        "id": "hHaPWb6qf0jI"
      },
      "execution_count": 1,
      "outputs": []
    },
    {
      "cell_type": "code",
      "source": [
        "np.random.seed(20)\n",
        "print(np.random.randn(10, 4))"
      ],
      "metadata": {
        "colab": {
          "base_uri": "https://localhost:8080/"
        },
        "id": "PlhT1i2cf2SD",
        "outputId": "85ac4e84-1fe7-403e-f9de-14f1d4ed507c"
      },
      "execution_count": 3,
      "outputs": [
        {
          "output_type": "stream",
          "name": "stdout",
          "text": [
            "[[ 0.88389311  0.19586502  0.35753652 -2.34326191]\n",
            " [-1.08483259  0.55969629  0.93946935 -0.97848104]\n",
            " [ 0.50309684  0.40641447  0.32346101 -0.49341088]\n",
            " [-0.79201679 -0.84236793 -1.27950266  0.24571517]\n",
            " [-0.0441948   1.56763255  1.05110868  0.40636843]\n",
            " [-0.1686461  -3.18970279  1.12013226  1.33277821]\n",
            " [-0.24333877 -0.13003071 -0.10901737  1.55618644]\n",
            " [ 0.12877835 -2.06694872 -0.88549315 -1.10457948]\n",
            " [ 0.93286635  2.059838   -0.93493796 -1.61299022]\n",
            " [ 0.52706972 -1.55110074  0.32961334 -1.13652654]]\n"
          ]
        }
      ]
    }
  ]
}